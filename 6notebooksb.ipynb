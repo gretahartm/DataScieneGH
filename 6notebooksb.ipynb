{
  "nbformat": 4,
  "nbformat_minor": 0,
  "metadata": {
    "colab": {
      "provenance": [],
      "gpuType": "T4",
      "authorship_tag": "ABX9TyM0Brib8dkcna6DJ/xJDYiE",
      "include_colab_link": true
    },
    "kernelspec": {
      "name": "python3",
      "display_name": "Python 3"
    },
    "language_info": {
      "name": "python"
    },
    "accelerator": "GPU"
  },
  "cells": [
    {
      "cell_type": "markdown",
      "metadata": {
        "id": "view-in-github",
        "colab_type": "text"
      },
      "source": [
        "<a href=\"https://colab.research.google.com/gist/gretahartm/632c642fee3d61e041f06aabd8c25433/6notebooksb.ipynb\" target=\"_parent\"><img src=\"https://colab.research.google.com/assets/colab-badge.svg\" alt=\"Open In Colab\"/></a>"
      ]
    },
    {
      "cell_type": "markdown",
      "source": [
        "# Train U-Net Tracker Model on Google Colab\n",
        "\n",
        "This notebook provides a step-by-step guide to train a U-Net-based model (`unet-tracker`) for face tracking using Google Colab. With a training set of approximately 200-400 images, training for 200 epochs yielded reasonable results.\n",
        "\n",
        "---\n",
        "\n",
        "## Prerequisites\n",
        "\n",
        "### 1. Enable GPU Access\n",
        "To leverage GPU acceleration for faster training:\n",
        "1. Go to the menu: **Runtime > Change runtime type**.\n",
        "2. Set the **Hardware Accelerator** to **GPU**.\n",
        "\n",
        "### 2. Install `unet-tracker`\n",
        "\n",
        "\n",
        "*   Prepare the dataset\n",
        "*   Configure the training parameters\n",
        "*   Train and evaluate your U-Net tracker model\n",
        "\n",
        "\n",
        "\n",
        "\n"
      ],
      "metadata": {
        "id": "cfSkmo3EfgQ6"
      }
    },
    {
      "cell_type": "code",
      "execution_count": 1,
      "metadata": {
        "colab": {
          "base_uri": "https://localhost:8080/"
        },
        "id": "kxaC2ArR1NEn",
        "outputId": "dcd445a8-fc07-494e-8ca5-057787326588"
      },
      "outputs": [
        {
          "output_type": "stream",
          "name": "stdout",
          "text": [
            "Collecting albumentations==1.3.0\n",
            "  Downloading albumentations-1.3.0-py3-none-any.whl.metadata (34 kB)\n",
            "Requirement already satisfied: numpy>=1.11.1 in /usr/local/lib/python3.10/dist-packages (from albumentations==1.3.0) (1.26.4)\n",
            "Requirement already satisfied: scipy in /usr/local/lib/python3.10/dist-packages (from albumentations==1.3.0) (1.13.1)\n",
            "Requirement already satisfied: scikit-image>=0.16.1 in /usr/local/lib/python3.10/dist-packages (from albumentations==1.3.0) (0.25.0)\n",
            "Requirement already satisfied: PyYAML in /usr/local/lib/python3.10/dist-packages (from albumentations==1.3.0) (6.0.2)\n",
            "Collecting qudida>=0.0.4 (from albumentations==1.3.0)\n",
            "  Downloading qudida-0.0.4-py3-none-any.whl.metadata (1.5 kB)\n",
            "Requirement already satisfied: opencv-python-headless>=4.1.1 in /usr/local/lib/python3.10/dist-packages (from albumentations==1.3.0) (4.10.0.84)\n",
            "Requirement already satisfied: scikit-learn>=0.19.1 in /usr/local/lib/python3.10/dist-packages (from qudida>=0.0.4->albumentations==1.3.0) (1.6.0)\n",
            "Requirement already satisfied: typing-extensions in /usr/local/lib/python3.10/dist-packages (from qudida>=0.0.4->albumentations==1.3.0) (4.12.2)\n",
            "Requirement already satisfied: networkx>=3.0 in /usr/local/lib/python3.10/dist-packages (from scikit-image>=0.16.1->albumentations==1.3.0) (3.4.2)\n",
            "Requirement already satisfied: pillow>=10.1 in /usr/local/lib/python3.10/dist-packages (from scikit-image>=0.16.1->albumentations==1.3.0) (11.0.0)\n",
            "Requirement already satisfied: imageio!=2.35.0,>=2.33 in /usr/local/lib/python3.10/dist-packages (from scikit-image>=0.16.1->albumentations==1.3.0) (2.36.1)\n",
            "Requirement already satisfied: tifffile>=2022.8.12 in /usr/local/lib/python3.10/dist-packages (from scikit-image>=0.16.1->albumentations==1.3.0) (2024.12.12)\n",
            "Requirement already satisfied: packaging>=21 in /usr/local/lib/python3.10/dist-packages (from scikit-image>=0.16.1->albumentations==1.3.0) (24.2)\n",
            "Requirement already satisfied: lazy-loader>=0.4 in /usr/local/lib/python3.10/dist-packages (from scikit-image>=0.16.1->albumentations==1.3.0) (0.4)\n",
            "Requirement already satisfied: joblib>=1.2.0 in /usr/local/lib/python3.10/dist-packages (from scikit-learn>=0.19.1->qudida>=0.0.4->albumentations==1.3.0) (1.4.2)\n",
            "Requirement already satisfied: threadpoolctl>=3.1.0 in /usr/local/lib/python3.10/dist-packages (from scikit-learn>=0.19.1->qudida>=0.0.4->albumentations==1.3.0) (3.5.0)\n",
            "Downloading albumentations-1.3.0-py3-none-any.whl (123 kB)\n",
            "\u001b[2K   \u001b[90m━━━━━━━━━━━━━━━━━━━━━━━━━━━━━━━━━━━━━━━━\u001b[0m \u001b[32m123.5/123.5 kB\u001b[0m \u001b[31m4.2 MB/s\u001b[0m eta \u001b[36m0:00:00\u001b[0m\n",
            "\u001b[?25hDownloading qudida-0.0.4-py3-none-any.whl (3.5 kB)\n",
            "Installing collected packages: qudida, albumentations\n",
            "  Attempting uninstall: albumentations\n",
            "    Found existing installation: albumentations 1.4.20\n",
            "    Uninstalling albumentations-1.4.20:\n",
            "      Successfully uninstalled albumentations-1.4.20\n",
            "Successfully installed albumentations-1.3.0 qudida-0.0.4\n",
            "Cloning into 'unetTracker'...\n",
            "remote: Enumerating objects: 1022, done.\u001b[K\n",
            "remote: Counting objects: 100% (401/401), done.\u001b[K\n",
            "remote: Compressing objects: 100% (195/195), done.\u001b[K\n",
            "remote: Total 1022 (delta 233), reused 353 (delta 204), pack-reused 621 (from 1)\u001b[K\n",
            "Receiving objects: 100% (1022/1022), 127.56 MiB | 14.62 MiB/s, done.\n",
            "Resolving deltas: 100% (623/623), done.\n",
            "Requirement already satisfied: ipywidgets in /usr/local/lib/python3.10/dist-packages (from -r unetTracker/requirements.txt (line 1)) (7.7.1)\n",
            "Collecting jupyterlab (from -r unetTracker/requirements.txt (line 2))\n",
            "  Downloading jupyterlab-4.3.4-py3-none-any.whl.metadata (16 kB)\n",
            "Collecting ipympl (from -r unetTracker/requirements.txt (line 3))\n",
            "  Downloading ipympl-0.9.6-py3-none-any.whl.metadata (8.7 kB)\n",
            "Requirement already satisfied: matplotlib in /usr/local/lib/python3.10/dist-packages (from -r unetTracker/requirements.txt (line 4)) (3.8.0)\n",
            "Requirement already satisfied: pandas in /usr/local/lib/python3.10/dist-packages (from -r unetTracker/requirements.txt (line 5)) (2.2.2)\n",
            "Requirement already satisfied: torch in /usr/local/lib/python3.10/dist-packages (from -r unetTracker/requirements.txt (line 6)) (2.5.1+cu121)\n",
            "Requirement already satisfied: torchvision in /usr/local/lib/python3.10/dist-packages (from -r unetTracker/requirements.txt (line 7)) (0.20.1+cu121)\n",
            "Requirement already satisfied: tqdm in /usr/local/lib/python3.10/dist-packages (from -r unetTracker/requirements.txt (line 8)) (4.67.1)\n",
            "Requirement already satisfied: imgaug in /usr/local/lib/python3.10/dist-packages (from -r unetTracker/requirements.txt (line 9)) (0.4.0)\n",
            "Requirement already satisfied: albumentations==1.3.0 in /usr/local/lib/python3.10/dist-packages (from -r unetTracker/requirements.txt (line 10)) (1.3.0)\n",
            "Requirement already satisfied: numpy>=1.11.1 in /usr/local/lib/python3.10/dist-packages (from albumentations==1.3.0->-r unetTracker/requirements.txt (line 10)) (1.26.4)\n",
            "Requirement already satisfied: scipy in /usr/local/lib/python3.10/dist-packages (from albumentations==1.3.0->-r unetTracker/requirements.txt (line 10)) (1.13.1)\n",
            "Requirement already satisfied: scikit-image>=0.16.1 in /usr/local/lib/python3.10/dist-packages (from albumentations==1.3.0->-r unetTracker/requirements.txt (line 10)) (0.25.0)\n",
            "Requirement already satisfied: PyYAML in /usr/local/lib/python3.10/dist-packages (from albumentations==1.3.0->-r unetTracker/requirements.txt (line 10)) (6.0.2)\n",
            "Requirement already satisfied: qudida>=0.0.4 in /usr/local/lib/python3.10/dist-packages (from albumentations==1.3.0->-r unetTracker/requirements.txt (line 10)) (0.0.4)\n",
            "Requirement already satisfied: opencv-python-headless>=4.1.1 in /usr/local/lib/python3.10/dist-packages (from albumentations==1.3.0->-r unetTracker/requirements.txt (line 10)) (4.10.0.84)\n",
            "Requirement already satisfied: ipykernel>=4.5.1 in /usr/local/lib/python3.10/dist-packages (from ipywidgets->-r unetTracker/requirements.txt (line 1)) (5.5.6)\n",
            "Requirement already satisfied: ipython-genutils~=0.2.0 in /usr/local/lib/python3.10/dist-packages (from ipywidgets->-r unetTracker/requirements.txt (line 1)) (0.2.0)\n",
            "Requirement already satisfied: traitlets>=4.3.1 in /usr/local/lib/python3.10/dist-packages (from ipywidgets->-r unetTracker/requirements.txt (line 1)) (5.7.1)\n",
            "Requirement already satisfied: widgetsnbextension~=3.6.0 in /usr/local/lib/python3.10/dist-packages (from ipywidgets->-r unetTracker/requirements.txt (line 1)) (3.6.10)\n",
            "Requirement already satisfied: ipython>=4.0.0 in /usr/local/lib/python3.10/dist-packages (from ipywidgets->-r unetTracker/requirements.txt (line 1)) (7.34.0)\n",
            "Requirement already satisfied: jupyterlab-widgets>=1.0.0 in /usr/local/lib/python3.10/dist-packages (from ipywidgets->-r unetTracker/requirements.txt (line 1)) (3.0.13)\n",
            "Collecting async-lru>=1.0.0 (from jupyterlab->-r unetTracker/requirements.txt (line 2))\n",
            "  Downloading async_lru-2.0.4-py3-none-any.whl.metadata (4.5 kB)\n",
            "Requirement already satisfied: httpx>=0.25.0 in /usr/local/lib/python3.10/dist-packages (from jupyterlab->-r unetTracker/requirements.txt (line 2)) (0.28.1)\n",
            "Collecting ipykernel>=4.5.1 (from ipywidgets->-r unetTracker/requirements.txt (line 1))\n",
            "  Downloading ipykernel-6.29.5-py3-none-any.whl.metadata (6.3 kB)\n",
            "Requirement already satisfied: jinja2>=3.0.3 in /usr/local/lib/python3.10/dist-packages (from jupyterlab->-r unetTracker/requirements.txt (line 2)) (3.1.4)\n",
            "Requirement already satisfied: jupyter-core in /usr/local/lib/python3.10/dist-packages (from jupyterlab->-r unetTracker/requirements.txt (line 2)) (5.7.2)\n",
            "Collecting jupyter-lsp>=2.0.0 (from jupyterlab->-r unetTracker/requirements.txt (line 2))\n",
            "  Downloading jupyter_lsp-2.2.5-py3-none-any.whl.metadata (1.8 kB)\n",
            "Collecting jupyter-server<3,>=2.4.0 (from jupyterlab->-r unetTracker/requirements.txt (line 2))\n",
            "  Downloading jupyter_server-2.15.0-py3-none-any.whl.metadata (8.4 kB)\n",
            "Collecting jupyterlab-server<3,>=2.27.1 (from jupyterlab->-r unetTracker/requirements.txt (line 2))\n",
            "  Downloading jupyterlab_server-2.27.3-py3-none-any.whl.metadata (5.9 kB)\n",
            "Requirement already satisfied: notebook-shim>=0.2 in /usr/local/lib/python3.10/dist-packages (from jupyterlab->-r unetTracker/requirements.txt (line 2)) (0.2.4)\n",
            "Requirement already satisfied: packaging in /usr/local/lib/python3.10/dist-packages (from jupyterlab->-r unetTracker/requirements.txt (line 2)) (24.2)\n",
            "Requirement already satisfied: setuptools>=40.8.0 in /usr/local/lib/python3.10/dist-packages (from jupyterlab->-r unetTracker/requirements.txt (line 2)) (75.1.0)\n",
            "Requirement already satisfied: tomli>=1.2.2 in /usr/local/lib/python3.10/dist-packages (from jupyterlab->-r unetTracker/requirements.txt (line 2)) (2.2.1)\n",
            "Requirement already satisfied: tornado>=6.2.0 in /usr/local/lib/python3.10/dist-packages (from jupyterlab->-r unetTracker/requirements.txt (line 2)) (6.3.3)\n",
            "Requirement already satisfied: pillow in /usr/local/lib/python3.10/dist-packages (from ipympl->-r unetTracker/requirements.txt (line 3)) (11.0.0)\n",
            "Requirement already satisfied: contourpy>=1.0.1 in /usr/local/lib/python3.10/dist-packages (from matplotlib->-r unetTracker/requirements.txt (line 4)) (1.3.1)\n",
            "Requirement already satisfied: cycler>=0.10 in /usr/local/lib/python3.10/dist-packages (from matplotlib->-r unetTracker/requirements.txt (line 4)) (0.12.1)\n",
            "Requirement already satisfied: fonttools>=4.22.0 in /usr/local/lib/python3.10/dist-packages (from matplotlib->-r unetTracker/requirements.txt (line 4)) (4.55.3)\n",
            "Requirement already satisfied: kiwisolver>=1.0.1 in /usr/local/lib/python3.10/dist-packages (from matplotlib->-r unetTracker/requirements.txt (line 4)) (1.4.7)\n",
            "Requirement already satisfied: pyparsing>=2.3.1 in /usr/local/lib/python3.10/dist-packages (from matplotlib->-r unetTracker/requirements.txt (line 4)) (3.2.0)\n",
            "Requirement already satisfied: python-dateutil>=2.7 in /usr/local/lib/python3.10/dist-packages (from matplotlib->-r unetTracker/requirements.txt (line 4)) (2.8.2)\n",
            "Requirement already satisfied: pytz>=2020.1 in /usr/local/lib/python3.10/dist-packages (from pandas->-r unetTracker/requirements.txt (line 5)) (2024.2)\n",
            "Requirement already satisfied: tzdata>=2022.7 in /usr/local/lib/python3.10/dist-packages (from pandas->-r unetTracker/requirements.txt (line 5)) (2024.2)\n",
            "Requirement already satisfied: filelock in /usr/local/lib/python3.10/dist-packages (from torch->-r unetTracker/requirements.txt (line 6)) (3.16.1)\n",
            "Requirement already satisfied: typing-extensions>=4.8.0 in /usr/local/lib/python3.10/dist-packages (from torch->-r unetTracker/requirements.txt (line 6)) (4.12.2)\n",
            "Requirement already satisfied: networkx in /usr/local/lib/python3.10/dist-packages (from torch->-r unetTracker/requirements.txt (line 6)) (3.4.2)\n",
            "Requirement already satisfied: fsspec in /usr/local/lib/python3.10/dist-packages (from torch->-r unetTracker/requirements.txt (line 6)) (2024.10.0)\n",
            "Requirement already satisfied: sympy==1.13.1 in /usr/local/lib/python3.10/dist-packages (from torch->-r unetTracker/requirements.txt (line 6)) (1.13.1)\n",
            "Requirement already satisfied: mpmath<1.4,>=1.1.0 in /usr/local/lib/python3.10/dist-packages (from sympy==1.13.1->torch->-r unetTracker/requirements.txt (line 6)) (1.3.0)\n",
            "Requirement already satisfied: six in /usr/local/lib/python3.10/dist-packages (from imgaug->-r unetTracker/requirements.txt (line 9)) (1.17.0)\n",
            "Requirement already satisfied: opencv-python in /usr/local/lib/python3.10/dist-packages (from imgaug->-r unetTracker/requirements.txt (line 9)) (4.10.0.84)\n",
            "Requirement already satisfied: imageio in /usr/local/lib/python3.10/dist-packages (from imgaug->-r unetTracker/requirements.txt (line 9)) (2.36.1)\n",
            "Requirement already satisfied: Shapely in /usr/local/lib/python3.10/dist-packages (from imgaug->-r unetTracker/requirements.txt (line 9)) (2.0.6)\n",
            "Requirement already satisfied: anyio in /usr/local/lib/python3.10/dist-packages (from httpx>=0.25.0->jupyterlab->-r unetTracker/requirements.txt (line 2)) (3.7.1)\n",
            "Requirement already satisfied: certifi in /usr/local/lib/python3.10/dist-packages (from httpx>=0.25.0->jupyterlab->-r unetTracker/requirements.txt (line 2)) (2024.12.14)\n",
            "Requirement already satisfied: httpcore==1.* in /usr/local/lib/python3.10/dist-packages (from httpx>=0.25.0->jupyterlab->-r unetTracker/requirements.txt (line 2)) (1.0.7)\n",
            "Requirement already satisfied: idna in /usr/local/lib/python3.10/dist-packages (from httpx>=0.25.0->jupyterlab->-r unetTracker/requirements.txt (line 2)) (3.10)\n",
            "Requirement already satisfied: h11<0.15,>=0.13 in /usr/local/lib/python3.10/dist-packages (from httpcore==1.*->httpx>=0.25.0->jupyterlab->-r unetTracker/requirements.txt (line 2)) (0.14.0)\n",
            "Collecting comm>=0.1.1 (from ipykernel>=4.5.1->ipywidgets->-r unetTracker/requirements.txt (line 1))\n",
            "  Downloading comm-0.2.2-py3-none-any.whl.metadata (3.7 kB)\n",
            "Requirement already satisfied: debugpy>=1.6.5 in /usr/local/lib/python3.10/dist-packages (from ipykernel>=4.5.1->ipywidgets->-r unetTracker/requirements.txt (line 1)) (1.8.0)\n",
            "Requirement already satisfied: jupyter-client>=6.1.12 in /usr/local/lib/python3.10/dist-packages (from ipykernel>=4.5.1->ipywidgets->-r unetTracker/requirements.txt (line 1)) (6.1.12)\n",
            "Requirement already satisfied: matplotlib-inline>=0.1 in /usr/local/lib/python3.10/dist-packages (from ipykernel>=4.5.1->ipywidgets->-r unetTracker/requirements.txt (line 1)) (0.1.7)\n",
            "Requirement already satisfied: nest-asyncio in /usr/local/lib/python3.10/dist-packages (from ipykernel>=4.5.1->ipywidgets->-r unetTracker/requirements.txt (line 1)) (1.6.0)\n",
            "Requirement already satisfied: psutil in /usr/local/lib/python3.10/dist-packages (from ipykernel>=4.5.1->ipywidgets->-r unetTracker/requirements.txt (line 1)) (5.9.5)\n",
            "Requirement already satisfied: pyzmq>=24 in /usr/local/lib/python3.10/dist-packages (from ipykernel>=4.5.1->ipywidgets->-r unetTracker/requirements.txt (line 1)) (24.0.1)\n",
            "Collecting jedi>=0.16 (from ipython>=4.0.0->ipywidgets->-r unetTracker/requirements.txt (line 1))\n",
            "  Downloading jedi-0.19.2-py2.py3-none-any.whl.metadata (22 kB)\n",
            "Requirement already satisfied: decorator in /usr/local/lib/python3.10/dist-packages (from ipython>=4.0.0->ipywidgets->-r unetTracker/requirements.txt (line 1)) (4.4.2)\n",
            "Requirement already satisfied: pickleshare in /usr/local/lib/python3.10/dist-packages (from ipython>=4.0.0->ipywidgets->-r unetTracker/requirements.txt (line 1)) (0.7.5)\n",
            "Requirement already satisfied: prompt-toolkit!=3.0.0,!=3.0.1,<3.1.0,>=2.0.0 in /usr/local/lib/python3.10/dist-packages (from ipython>=4.0.0->ipywidgets->-r unetTracker/requirements.txt (line 1)) (3.0.48)\n",
            "Requirement already satisfied: pygments in /usr/local/lib/python3.10/dist-packages (from ipython>=4.0.0->ipywidgets->-r unetTracker/requirements.txt (line 1)) (2.18.0)\n",
            "Requirement already satisfied: backcall in /usr/local/lib/python3.10/dist-packages (from ipython>=4.0.0->ipywidgets->-r unetTracker/requirements.txt (line 1)) (0.2.0)\n",
            "Requirement already satisfied: pexpect>4.3 in /usr/local/lib/python3.10/dist-packages (from ipython>=4.0.0->ipywidgets->-r unetTracker/requirements.txt (line 1)) (4.9.0)\n",
            "Requirement already satisfied: MarkupSafe>=2.0 in /usr/local/lib/python3.10/dist-packages (from jinja2>=3.0.3->jupyterlab->-r unetTracker/requirements.txt (line 2)) (3.0.2)\n",
            "Requirement already satisfied: platformdirs>=2.5 in /usr/local/lib/python3.10/dist-packages (from jupyter-core->jupyterlab->-r unetTracker/requirements.txt (line 2)) (4.3.6)\n",
            "Requirement already satisfied: argon2-cffi>=21.1 in /usr/local/lib/python3.10/dist-packages (from jupyter-server<3,>=2.4.0->jupyterlab->-r unetTracker/requirements.txt (line 2)) (23.1.0)\n",
            "Collecting jupyter-client>=6.1.12 (from ipykernel>=4.5.1->ipywidgets->-r unetTracker/requirements.txt (line 1))\n",
            "  Downloading jupyter_client-8.6.3-py3-none-any.whl.metadata (8.3 kB)\n",
            "Collecting jupyter-events>=0.11.0 (from jupyter-server<3,>=2.4.0->jupyterlab->-r unetTracker/requirements.txt (line 2))\n",
            "  Downloading jupyter_events-0.11.0-py3-none-any.whl.metadata (5.8 kB)\n",
            "Collecting jupyter-server-terminals>=0.4.4 (from jupyter-server<3,>=2.4.0->jupyterlab->-r unetTracker/requirements.txt (line 2))\n",
            "  Downloading jupyter_server_terminals-0.5.3-py3-none-any.whl.metadata (5.6 kB)\n",
            "Requirement already satisfied: nbconvert>=6.4.4 in /usr/local/lib/python3.10/dist-packages (from jupyter-server<3,>=2.4.0->jupyterlab->-r unetTracker/requirements.txt (line 2)) (7.16.4)\n",
            "Requirement already satisfied: nbformat>=5.3.0 in /usr/local/lib/python3.10/dist-packages (from jupyter-server<3,>=2.4.0->jupyterlab->-r unetTracker/requirements.txt (line 2)) (5.10.4)\n",
            "Collecting overrides>=5.0 (from jupyter-server<3,>=2.4.0->jupyterlab->-r unetTracker/requirements.txt (line 2))\n",
            "  Downloading overrides-7.7.0-py3-none-any.whl.metadata (5.8 kB)\n",
            "Requirement already satisfied: prometheus-client>=0.9 in /usr/local/lib/python3.10/dist-packages (from jupyter-server<3,>=2.4.0->jupyterlab->-r unetTracker/requirements.txt (line 2)) (0.21.1)\n",
            "Requirement already satisfied: send2trash>=1.8.2 in /usr/local/lib/python3.10/dist-packages (from jupyter-server<3,>=2.4.0->jupyterlab->-r unetTracker/requirements.txt (line 2)) (1.8.3)\n",
            "Requirement already satisfied: terminado>=0.8.3 in /usr/local/lib/python3.10/dist-packages (from jupyter-server<3,>=2.4.0->jupyterlab->-r unetTracker/requirements.txt (line 2)) (0.18.1)\n",
            "Requirement already satisfied: websocket-client>=1.7 in /usr/local/lib/python3.10/dist-packages (from jupyter-server<3,>=2.4.0->jupyterlab->-r unetTracker/requirements.txt (line 2)) (1.8.0)\n",
            "Requirement already satisfied: babel>=2.10 in /usr/local/lib/python3.10/dist-packages (from jupyterlab-server<3,>=2.27.1->jupyterlab->-r unetTracker/requirements.txt (line 2)) (2.16.0)\n",
            "Collecting json5>=0.9.0 (from jupyterlab-server<3,>=2.27.1->jupyterlab->-r unetTracker/requirements.txt (line 2))\n",
            "  Downloading json5-0.10.0-py3-none-any.whl.metadata (34 kB)\n",
            "Requirement already satisfied: jsonschema>=4.18.0 in /usr/local/lib/python3.10/dist-packages (from jupyterlab-server<3,>=2.27.1->jupyterlab->-r unetTracker/requirements.txt (line 2)) (4.23.0)\n",
            "Requirement already satisfied: requests>=2.31 in /usr/local/lib/python3.10/dist-packages (from jupyterlab-server<3,>=2.27.1->jupyterlab->-r unetTracker/requirements.txt (line 2)) (2.32.3)\n",
            "Requirement already satisfied: scikit-learn>=0.19.1 in /usr/local/lib/python3.10/dist-packages (from qudida>=0.0.4->albumentations==1.3.0->-r unetTracker/requirements.txt (line 10)) (1.6.0)\n",
            "Requirement already satisfied: tifffile>=2022.8.12 in /usr/local/lib/python3.10/dist-packages (from scikit-image>=0.16.1->albumentations==1.3.0->-r unetTracker/requirements.txt (line 10)) (2024.12.12)\n",
            "Requirement already satisfied: lazy-loader>=0.4 in /usr/local/lib/python3.10/dist-packages (from scikit-image>=0.16.1->albumentations==1.3.0->-r unetTracker/requirements.txt (line 10)) (0.4)\n",
            "Requirement already satisfied: notebook>=4.4.1 in /usr/local/lib/python3.10/dist-packages (from widgetsnbextension~=3.6.0->ipywidgets->-r unetTracker/requirements.txt (line 1)) (6.5.5)\n",
            "Requirement already satisfied: sniffio>=1.1 in /usr/local/lib/python3.10/dist-packages (from anyio->httpx>=0.25.0->jupyterlab->-r unetTracker/requirements.txt (line 2)) (1.3.1)\n",
            "Requirement already satisfied: exceptiongroup in /usr/local/lib/python3.10/dist-packages (from anyio->httpx>=0.25.0->jupyterlab->-r unetTracker/requirements.txt (line 2)) (1.2.2)\n",
            "Requirement already satisfied: argon2-cffi-bindings in /usr/local/lib/python3.10/dist-packages (from argon2-cffi>=21.1->jupyter-server<3,>=2.4.0->jupyterlab->-r unetTracker/requirements.txt (line 2)) (21.2.0)\n",
            "Requirement already satisfied: parso<0.9.0,>=0.8.4 in /usr/local/lib/python3.10/dist-packages (from jedi>=0.16->ipython>=4.0.0->ipywidgets->-r unetTracker/requirements.txt (line 1)) (0.8.4)\n",
            "Requirement already satisfied: attrs>=22.2.0 in /usr/local/lib/python3.10/dist-packages (from jsonschema>=4.18.0->jupyterlab-server<3,>=2.27.1->jupyterlab->-r unetTracker/requirements.txt (line 2)) (24.3.0)\n",
            "Requirement already satisfied: jsonschema-specifications>=2023.03.6 in /usr/local/lib/python3.10/dist-packages (from jsonschema>=4.18.0->jupyterlab-server<3,>=2.27.1->jupyterlab->-r unetTracker/requirements.txt (line 2)) (2024.10.1)\n",
            "Requirement already satisfied: referencing>=0.28.4 in /usr/local/lib/python3.10/dist-packages (from jsonschema>=4.18.0->jupyterlab-server<3,>=2.27.1->jupyterlab->-r unetTracker/requirements.txt (line 2)) (0.35.1)\n",
            "Requirement already satisfied: rpds-py>=0.7.1 in /usr/local/lib/python3.10/dist-packages (from jsonschema>=4.18.0->jupyterlab-server<3,>=2.27.1->jupyterlab->-r unetTracker/requirements.txt (line 2)) (0.22.3)\n",
            "Collecting python-json-logger>=2.0.4 (from jupyter-events>=0.11.0->jupyter-server<3,>=2.4.0->jupyterlab->-r unetTracker/requirements.txt (line 2))\n",
            "  Downloading python_json_logger-3.2.1-py3-none-any.whl.metadata (4.1 kB)\n",
            "Collecting rfc3339-validator (from jupyter-events>=0.11.0->jupyter-server<3,>=2.4.0->jupyterlab->-r unetTracker/requirements.txt (line 2))\n",
            "  Downloading rfc3339_validator-0.1.4-py2.py3-none-any.whl.metadata (1.5 kB)\n",
            "Collecting rfc3986-validator>=0.1.1 (from jupyter-events>=0.11.0->jupyter-server<3,>=2.4.0->jupyterlab->-r unetTracker/requirements.txt (line 2))\n",
            "  Downloading rfc3986_validator-0.1.1-py2.py3-none-any.whl.metadata (1.7 kB)\n",
            "Requirement already satisfied: beautifulsoup4 in /usr/local/lib/python3.10/dist-packages (from nbconvert>=6.4.4->jupyter-server<3,>=2.4.0->jupyterlab->-r unetTracker/requirements.txt (line 2)) (4.12.3)\n",
            "Requirement already satisfied: bleach!=5.0.0 in /usr/local/lib/python3.10/dist-packages (from nbconvert>=6.4.4->jupyter-server<3,>=2.4.0->jupyterlab->-r unetTracker/requirements.txt (line 2)) (6.2.0)\n",
            "Requirement already satisfied: defusedxml in /usr/local/lib/python3.10/dist-packages (from nbconvert>=6.4.4->jupyter-server<3,>=2.4.0->jupyterlab->-r unetTracker/requirements.txt (line 2)) (0.7.1)\n",
            "Requirement already satisfied: jupyterlab-pygments in /usr/local/lib/python3.10/dist-packages (from nbconvert>=6.4.4->jupyter-server<3,>=2.4.0->jupyterlab->-r unetTracker/requirements.txt (line 2)) (0.3.0)\n",
            "Requirement already satisfied: mistune<4,>=2.0.3 in /usr/local/lib/python3.10/dist-packages (from nbconvert>=6.4.4->jupyter-server<3,>=2.4.0->jupyterlab->-r unetTracker/requirements.txt (line 2)) (3.0.2)\n",
            "Requirement already satisfied: nbclient>=0.5.0 in /usr/local/lib/python3.10/dist-packages (from nbconvert>=6.4.4->jupyter-server<3,>=2.4.0->jupyterlab->-r unetTracker/requirements.txt (line 2)) (0.10.1)\n",
            "Requirement already satisfied: pandocfilters>=1.4.1 in /usr/local/lib/python3.10/dist-packages (from nbconvert>=6.4.4->jupyter-server<3,>=2.4.0->jupyterlab->-r unetTracker/requirements.txt (line 2)) (1.5.1)\n",
            "Requirement already satisfied: tinycss2 in /usr/local/lib/python3.10/dist-packages (from nbconvert>=6.4.4->jupyter-server<3,>=2.4.0->jupyterlab->-r unetTracker/requirements.txt (line 2)) (1.4.0)\n",
            "Requirement already satisfied: fastjsonschema>=2.15 in /usr/local/lib/python3.10/dist-packages (from nbformat>=5.3.0->jupyter-server<3,>=2.4.0->jupyterlab->-r unetTracker/requirements.txt (line 2)) (2.21.1)\n",
            "Collecting jupyter-client>=6.1.12 (from ipykernel>=4.5.1->ipywidgets->-r unetTracker/requirements.txt (line 1))\n",
            "  Downloading jupyter_client-7.4.9-py3-none-any.whl.metadata (8.5 kB)\n",
            "Requirement already satisfied: nbclassic>=0.4.7 in /usr/local/lib/python3.10/dist-packages (from notebook>=4.4.1->widgetsnbextension~=3.6.0->ipywidgets->-r unetTracker/requirements.txt (line 1)) (1.1.0)\n",
            "Requirement already satisfied: entrypoints in /usr/local/lib/python3.10/dist-packages (from jupyter-client>=6.1.12->ipykernel>=4.5.1->ipywidgets->-r unetTracker/requirements.txt (line 1)) (0.4)\n",
            "Requirement already satisfied: ptyprocess>=0.5 in /usr/local/lib/python3.10/dist-packages (from pexpect>4.3->ipython>=4.0.0->ipywidgets->-r unetTracker/requirements.txt (line 1)) (0.7.0)\n",
            "Requirement already satisfied: wcwidth in /usr/local/lib/python3.10/dist-packages (from prompt-toolkit!=3.0.0,!=3.0.1,<3.1.0,>=2.0.0->ipython>=4.0.0->ipywidgets->-r unetTracker/requirements.txt (line 1)) (0.2.13)\n",
            "Requirement already satisfied: charset-normalizer<4,>=2 in /usr/local/lib/python3.10/dist-packages (from requests>=2.31->jupyterlab-server<3,>=2.27.1->jupyterlab->-r unetTracker/requirements.txt (line 2)) (3.4.0)\n",
            "Requirement already satisfied: urllib3<3,>=1.21.1 in /usr/local/lib/python3.10/dist-packages (from requests>=2.31->jupyterlab-server<3,>=2.27.1->jupyterlab->-r unetTracker/requirements.txt (line 2)) (2.2.3)\n",
            "Requirement already satisfied: joblib>=1.2.0 in /usr/local/lib/python3.10/dist-packages (from scikit-learn>=0.19.1->qudida>=0.0.4->albumentations==1.3.0->-r unetTracker/requirements.txt (line 10)) (1.4.2)\n",
            "Requirement already satisfied: threadpoolctl>=3.1.0 in /usr/local/lib/python3.10/dist-packages (from scikit-learn>=0.19.1->qudida>=0.0.4->albumentations==1.3.0->-r unetTracker/requirements.txt (line 10)) (3.5.0)\n",
            "Requirement already satisfied: webencodings in /usr/local/lib/python3.10/dist-packages (from bleach!=5.0.0->nbconvert>=6.4.4->jupyter-server<3,>=2.4.0->jupyterlab->-r unetTracker/requirements.txt (line 2)) (0.5.1)\n",
            "Collecting fqdn (from jsonschema[format-nongpl]>=4.18.0->jupyter-events>=0.11.0->jupyter-server<3,>=2.4.0->jupyterlab->-r unetTracker/requirements.txt (line 2))\n",
            "  Downloading fqdn-1.5.1-py3-none-any.whl.metadata (1.4 kB)\n",
            "Collecting isoduration (from jsonschema[format-nongpl]>=4.18.0->jupyter-events>=0.11.0->jupyter-server<3,>=2.4.0->jupyterlab->-r unetTracker/requirements.txt (line 2))\n",
            "  Downloading isoduration-20.11.0-py3-none-any.whl.metadata (5.7 kB)\n",
            "Requirement already satisfied: jsonpointer>1.13 in /usr/local/lib/python3.10/dist-packages (from jsonschema[format-nongpl]>=4.18.0->jupyter-events>=0.11.0->jupyter-server<3,>=2.4.0->jupyterlab->-r unetTracker/requirements.txt (line 2)) (3.0.0)\n",
            "Collecting uri-template (from jsonschema[format-nongpl]>=4.18.0->jupyter-events>=0.11.0->jupyter-server<3,>=2.4.0->jupyterlab->-r unetTracker/requirements.txt (line 2))\n",
            "  Downloading uri_template-1.3.0-py3-none-any.whl.metadata (8.8 kB)\n",
            "Requirement already satisfied: webcolors>=24.6.0 in /usr/local/lib/python3.10/dist-packages (from jsonschema[format-nongpl]>=4.18.0->jupyter-events>=0.11.0->jupyter-server<3,>=2.4.0->jupyterlab->-r unetTracker/requirements.txt (line 2)) (24.11.1)\n",
            "Requirement already satisfied: cffi>=1.0.1 in /usr/local/lib/python3.10/dist-packages (from argon2-cffi-bindings->argon2-cffi>=21.1->jupyter-server<3,>=2.4.0->jupyterlab->-r unetTracker/requirements.txt (line 2)) (1.17.1)\n",
            "Requirement already satisfied: soupsieve>1.2 in /usr/local/lib/python3.10/dist-packages (from beautifulsoup4->nbconvert>=6.4.4->jupyter-server<3,>=2.4.0->jupyterlab->-r unetTracker/requirements.txt (line 2)) (2.6)\n",
            "Requirement already satisfied: pycparser in /usr/local/lib/python3.10/dist-packages (from cffi>=1.0.1->argon2-cffi-bindings->argon2-cffi>=21.1->jupyter-server<3,>=2.4.0->jupyterlab->-r unetTracker/requirements.txt (line 2)) (2.22)\n",
            "Collecting arrow>=0.15.0 (from isoduration->jsonschema[format-nongpl]>=4.18.0->jupyter-events>=0.11.0->jupyter-server<3,>=2.4.0->jupyterlab->-r unetTracker/requirements.txt (line 2))\n",
            "  Downloading arrow-1.3.0-py3-none-any.whl.metadata (7.5 kB)\n",
            "Collecting types-python-dateutil>=2.8.10 (from arrow>=0.15.0->isoduration->jsonschema[format-nongpl]>=4.18.0->jupyter-events>=0.11.0->jupyter-server<3,>=2.4.0->jupyterlab->-r unetTracker/requirements.txt (line 2))\n",
            "  Downloading types_python_dateutil-2.9.0.20241206-py3-none-any.whl.metadata (2.1 kB)\n",
            "Downloading jupyterlab-4.3.4-py3-none-any.whl (11.7 MB)\n",
            "\u001b[2K   \u001b[90m━━━━━━━━━━━━━━━━━━━━━━━━━━━━━━━━━━━━━━━━\u001b[0m \u001b[32m11.7/11.7 MB\u001b[0m \u001b[31m84.4 MB/s\u001b[0m eta \u001b[36m0:00:00\u001b[0m\n",
            "\u001b[?25hDownloading ipympl-0.9.6-py3-none-any.whl (515 kB)\n",
            "\u001b[2K   \u001b[90m━━━━━━━━━━━━━━━━━━━━━━━━━━━━━━━━━━━━━━━━\u001b[0m \u001b[32m515.7/515.7 kB\u001b[0m \u001b[31m37.9 MB/s\u001b[0m eta \u001b[36m0:00:00\u001b[0m\n",
            "\u001b[?25hDownloading async_lru-2.0.4-py3-none-any.whl (6.1 kB)\n",
            "Downloading ipykernel-6.29.5-py3-none-any.whl (117 kB)\n",
            "\u001b[2K   \u001b[90m━━━━━━━━━━━━━━━━━━━━━━━━━━━━━━━━━━━━━━━━\u001b[0m \u001b[32m117.2/117.2 kB\u001b[0m \u001b[31m11.0 MB/s\u001b[0m eta \u001b[36m0:00:00\u001b[0m\n",
            "\u001b[?25hDownloading jupyter_lsp-2.2.5-py3-none-any.whl (69 kB)\n",
            "\u001b[2K   \u001b[90m━━━━━━━━━━━━━━━━━━━━━━━━━━━━━━━━━━━━━━━━\u001b[0m \u001b[32m69.1/69.1 kB\u001b[0m \u001b[31m6.8 MB/s\u001b[0m eta \u001b[36m0:00:00\u001b[0m\n",
            "\u001b[?25hDownloading jupyter_server-2.15.0-py3-none-any.whl (385 kB)\n",
            "\u001b[2K   \u001b[90m━━━━━━━━━━━━━━━━━━━━━━━━━━━━━━━━━━━━━━━━\u001b[0m \u001b[32m385.8/385.8 kB\u001b[0m \u001b[31m33.5 MB/s\u001b[0m eta \u001b[36m0:00:00\u001b[0m\n",
            "\u001b[?25hDownloading jupyterlab_server-2.27.3-py3-none-any.whl (59 kB)\n",
            "\u001b[2K   \u001b[90m━━━━━━━━━━━━━━━━━━━━━━━━━━━━━━━━━━━━━━━━\u001b[0m \u001b[32m59.7/59.7 kB\u001b[0m \u001b[31m6.2 MB/s\u001b[0m eta \u001b[36m0:00:00\u001b[0m\n",
            "\u001b[?25hDownloading comm-0.2.2-py3-none-any.whl (7.2 kB)\n",
            "Downloading jedi-0.19.2-py2.py3-none-any.whl (1.6 MB)\n",
            "\u001b[2K   \u001b[90m━━━━━━━━━━━━━━━━━━━━━━━━━━━━━━━━━━━━━━━━\u001b[0m \u001b[32m1.6/1.6 MB\u001b[0m \u001b[31m74.2 MB/s\u001b[0m eta \u001b[36m0:00:00\u001b[0m\n",
            "\u001b[?25hDownloading json5-0.10.0-py3-none-any.whl (34 kB)\n",
            "Downloading jupyter_events-0.11.0-py3-none-any.whl (19 kB)\n",
            "Downloading jupyter_server_terminals-0.5.3-py3-none-any.whl (13 kB)\n",
            "Downloading jupyter_client-7.4.9-py3-none-any.whl (133 kB)\n",
            "\u001b[2K   \u001b[90m━━━━━━━━━━━━━━━━━━━━━━━━━━━━━━━━━━━━━━━━\u001b[0m \u001b[32m133.5/133.5 kB\u001b[0m \u001b[31m12.5 MB/s\u001b[0m eta \u001b[36m0:00:00\u001b[0m\n",
            "\u001b[?25hDownloading overrides-7.7.0-py3-none-any.whl (17 kB)\n",
            "Downloading python_json_logger-3.2.1-py3-none-any.whl (14 kB)\n",
            "Downloading rfc3986_validator-0.1.1-py2.py3-none-any.whl (4.2 kB)\n",
            "Downloading rfc3339_validator-0.1.4-py2.py3-none-any.whl (3.5 kB)\n",
            "Downloading fqdn-1.5.1-py3-none-any.whl (9.1 kB)\n",
            "Downloading isoduration-20.11.0-py3-none-any.whl (11 kB)\n",
            "Downloading uri_template-1.3.0-py3-none-any.whl (11 kB)\n",
            "Downloading arrow-1.3.0-py3-none-any.whl (66 kB)\n",
            "\u001b[2K   \u001b[90m━━━━━━━━━━━━━━━━━━━━━━━━━━━━━━━━━━━━━━━━\u001b[0m \u001b[32m66.4/66.4 kB\u001b[0m \u001b[31m6.3 MB/s\u001b[0m eta \u001b[36m0:00:00\u001b[0m\n",
            "\u001b[?25hDownloading types_python_dateutil-2.9.0.20241206-py3-none-any.whl (14 kB)\n",
            "Installing collected packages: uri-template, types-python-dateutil, rfc3986-validator, rfc3339-validator, python-json-logger, overrides, json5, jedi, fqdn, comm, async-lru, jupyter-server-terminals, jupyter-client, arrow, isoduration, ipykernel, jupyter-events, jupyter-server, jupyterlab-server, jupyter-lsp, jupyterlab, ipympl\n",
            "  Attempting uninstall: jupyter-client\n",
            "    Found existing installation: jupyter-client 6.1.12\n",
            "    Uninstalling jupyter-client-6.1.12:\n",
            "      Successfully uninstalled jupyter-client-6.1.12\n",
            "  Attempting uninstall: ipykernel\n",
            "    Found existing installation: ipykernel 5.5.6\n",
            "    Uninstalling ipykernel-5.5.6:\n",
            "      Successfully uninstalled ipykernel-5.5.6\n",
            "  Attempting uninstall: jupyter-server\n",
            "    Found existing installation: jupyter-server 1.24.0\n",
            "    Uninstalling jupyter-server-1.24.0:\n",
            "      Successfully uninstalled jupyter-server-1.24.0\n",
            "\u001b[31mERROR: pip's dependency resolver does not currently take into account all the packages that are installed. This behaviour is the source of the following dependency conflicts.\n",
            "google-colab 1.0.0 requires ipykernel==5.5.6, but you have ipykernel 6.29.5 which is incompatible.\u001b[0m\u001b[31m\n",
            "\u001b[0mSuccessfully installed arrow-1.3.0 async-lru-2.0.4 comm-0.2.2 fqdn-1.5.1 ipykernel-6.29.5 ipympl-0.9.6 isoduration-20.11.0 jedi-0.19.2 json5-0.10.0 jupyter-client-7.4.9 jupyter-events-0.11.0 jupyter-lsp-2.2.5 jupyter-server-2.15.0 jupyter-server-terminals-0.5.3 jupyterlab-4.3.4 jupyterlab-server-2.27.3 overrides-7.7.0 python-json-logger-3.2.1 rfc3339-validator-0.1.4 rfc3986-validator-0.1.1 types-python-dateutil-2.9.0.20241206 uri-template-1.3.0\n",
            "Obtaining file:///content/unetTracker\n",
            "  Installing build dependencies ... \u001b[?25l\u001b[?25hdone\n",
            "  Checking if build backend supports build_editable ... \u001b[?25l\u001b[?25hdone\n",
            "  Getting requirements to build editable ... \u001b[?25l\u001b[?25hdone\n",
            "  Preparing editable metadata (pyproject.toml) ... \u001b[?25l\u001b[?25hdone\n",
            "Building wheels for collected packages: unetTracker\n",
            "  Building editable for unetTracker (pyproject.toml) ... \u001b[?25l\u001b[?25hdone\n",
            "  Created wheel for unetTracker: filename=unetTracker-0.0.1-0.editable-py3-none-any.whl size=16343 sha256=da3c9c4a9f006ebe8c75a1363940449d4ab78cba850e633e6d1ef3a35ac658bd\n",
            "  Stored in directory: /tmp/pip-ephem-wheel-cache-urgrim80/wheels/62/9b/5a/0cb547490a9187d698861d98e1e803c5e64f31a9d899a8e84c\n",
            "Successfully built unetTracker\n",
            "Installing collected packages: unetTracker\n",
            "Successfully installed unetTracker-0.0.1\n"
          ]
        }
      ],
      "source": [
        "!pip install albumentations==1.3.0\n",
        "!git clone https://github.com/kevin-allen/unetTracker\n",
        "!pip install -r unetTracker/requirements.txt\n",
        "!pip install -e unetTracker"
      ]
    },
    {
      "cell_type": "code",
      "source": [
        "from google.colab import drive\n",
        "import os\n",
        "\n",
        "drive.mount('/content/drive')\n",
        "\n",
        "fn = \"/content/drive/My Drive/ssfolder\"\n",
        "if os.path.exists(fn):\n",
        "  print(\"We can access the ssfolder directory.\")\n",
        "else:\n",
        "  raise IOError(\"Problem accessing the ssfolder directory.\")"
      ],
      "metadata": {
        "colab": {
          "base_uri": "https://localhost:8080/"
        },
        "id": "Jh1pjb5l1T6i",
        "outputId": "c442a1b0-d989-4581-fd78-f10c784b5bc3"
      },
      "execution_count": 2,
      "outputs": [
        {
          "output_type": "stream",
          "name": "stdout",
          "text": [
            "Mounted at /content/drive\n",
            "We can access the ssfolder directory.\n"
          ]
        }
      ]
    },
    {
      "cell_type": "code",
      "source": [
        "# this will run the code in the setup_project.py and create a variable called `project`\n",
        "fn = \"/content/drive/My Drive/ssfolder/setup_project.py\"\n",
        "if os.path.exists(fn):\n",
        "  print(\"We can access the file.\")\n",
        "else:\n",
        "  raise IOError(\"Problem accessing the file.\")\n",
        "\n",
        "%run \"/content/drive/My Drive/ssfolder/setup_project.py\""
      ],
      "metadata": {
        "colab": {
          "base_uri": "https://localhost:8080/"
        },
        "id": "NFmVn_Wu1fsD",
        "outputId": "c9a4a84c-482b-4e14-a7e5-935d69752a15"
      },
      "execution_count": 3,
      "outputs": [
        {
          "output_type": "stream",
          "name": "stdout",
          "text": [
            "We can access the file.\n",
            "Project directory: /content/drive/My Drive/ssfolder/trackingProjects/simonebiles_tracker\n",
            "Getting configuration from config file. Values from config file will be used.\n",
            "Loading /content/drive/My Drive/ssfolder/trackingProjects/simonebiles_tracker/config.yalm\n",
            "{'augmentation_HorizontalFlipProb': 0.5, 'augmentation_RandomBrightnessContrastProb': 0.2, 'augmentation_RandomSizedCropProb': 1.0, 'augmentation_RotateProb': 0.3, 'image_extension': '.png', 'image_size': [270, 480], 'labeling_ImageEnlargeFactor': 2.0, 'name': 'simonebiles_tracker', 'normalization_values': {'means': [0.1952759027481079, 0.15899455547332764, 0.13951754570007324], 'stds': [0.16387943923473358, 0.16304421424865723, 0.16733983159065247]}, 'object_colors': [(240.0, 248.0, 255.0), (250.0, 235.0, 215.0), (0.0, 255.0, 255.0), (127.0, 255.0, 212.0), (240.0, 255.0, 255.0), (245.0, 245.0, 220.0), (255.0, 228.0, 196.0), (0.0, 0.0, 0.0), (255.0, 235.0, 205.0), (0.0, 0.0, 255.0)], 'objects': ['head', 'right knee', 'left knee', 'right foot', 'left foot', 'right hand', 'left hand', 'right shoulder', 'left shoulder', 'behind'], 'target_radius': 4, 'unet_features': [64, 128, 256, 512]}\n"
          ]
        }
      ]
    },
    {
      "cell_type": "code",
      "source": [
        "import torch\n",
        "from torch.utils.data import DataLoader\n",
        "import numpy as np\n",
        "import matplotlib.pyplot as plt\n",
        "\n",
        "from tqdm import tqdm\n",
        "from torch import optim\n",
        "import torch.nn as nn\n",
        "from datetime import datetime\n",
        "import albumentations as A\n",
        "import cv2\n",
        "import os\n",
        "import pickle\n",
        "\n",
        "from unetTracker.trackingProject import TrackingProject\n",
        "from unetTracker.dataset import UNetDataset\n",
        "from unetTracker.unet import Unet\n",
        "from unetTracker.coordinatesFromSegmentationMask import CoordinatesFromSegmentationMask\n",
        "from unetTracker.utils import check_accuracy"
      ],
      "metadata": {
        "id": "bQBvbGSQ1m-O"
      },
      "execution_count": 4,
      "outputs": []
    },
    {
      "cell_type": "code",
      "source": [
        "torch.cuda.is_available(),torch.cuda.get_device_name(0)"
      ],
      "metadata": {
        "colab": {
          "base_uri": "https://localhost:8080/"
        },
        "id": "wq_mGHRp1uFT",
        "outputId": "cfa8d4e8-c4ae-4958-99b0-4e95aa8d4718"
      },
      "execution_count": 5,
      "outputs": [
        {
          "output_type": "execute_result",
          "data": {
            "text/plain": [
              "(True, 'Tesla T4')"
            ]
          },
          "metadata": {},
          "execution_count": 5
        }
      ]
    },
    {
      "cell_type": "markdown",
      "source": [
        "#Hyperparamaters\n",
        "\n",
        "\n",
        "*   when first time training model --> LOAD_MODEL = False\n",
        "\n"
      ],
      "metadata": {
        "id": "8K-Jvv0JgHhK"
      }
    },
    {
      "cell_type": "code",
      "source": [
        "LEARNING_RATE=1e-4\n",
        "DEVICE = (torch.device(\"cuda\") if torch.cuda.is_available() else torch.device(\"cpu\"))\n",
        "BATCH_SIZE=4\n",
        "NUM_EPOCHS = 100\n",
        "NUM_WORKERS = 2\n",
        "OUTPUT_CHANNELS = len(project.object_list)\n",
        "IMAGE_HEIGHT = project.image_size[0]\n",
        "IMAGE_WIDTH = project.image_size[1]\n",
        "PIN_MEMORY = True\n",
        "LOAD_MODEL = True # If this is the first time you train the model, set LOAD_MODEL to False\n",
        "TRAIN_IMAGE_DIR = os.path.join(project.dataset_dir,\"train_images\")\n",
        "TRAIN_MASK_DIR =  os.path.join(project.dataset_dir,\"train_masks\")\n",
        "TRAIN_COORDINATE_DIR = os.path.join(project.dataset_dir,\"train_coordinates\")\n",
        "VAL_IMAGE_DIR = os.path.join(project.dataset_dir,\"val_images\")\n",
        "VAL_MASK_DIR =  os.path.join(project.dataset_dir,\"val_masks\")\n",
        "VAL_COORDINATE_DIR = os.path.join(project.dataset_dir,\"val_coordinates\")"
      ],
      "metadata": {
        "id": "WiAfPk9S1x-V"
      },
      "execution_count": 6,
      "outputs": []
    },
    {
      "cell_type": "markdown",
      "source": [
        "#Model, loss, and optimizer"
      ],
      "metadata": {
        "id": "2pY3Qe2sgWRO"
      }
    },
    {
      "cell_type": "code",
      "source": [
        "model = Unet(in_channels=3, out_channels=OUTPUT_CHANNELS).to(DEVICE)\n",
        "if LOAD_MODEL:\n",
        "    project.load_model(model)\n",
        "\n",
        "# set the model in train mode\n",
        "model.train()\n",
        "\n",
        "loss_fn = nn.BCEWithLogitsLoss() # not doing sigmoid on the output of the model, so use this, if we had more classes (objects) we would use change out_chan and cross_entropy_loss as loss_fn\n",
        "optimizer= optim.Adam(model.parameters(),lr=LEARNING_RATE)\n",
        "scaler = torch.cuda.amp.GradScaler()"
      ],
      "metadata": {
        "colab": {
          "base_uri": "https://localhost:8080/"
        },
        "id": "e-A_tck510m7",
        "outputId": "49dbda31-c156-465f-a15b-fa4aa7600526"
      },
      "execution_count": 7,
      "outputs": [
        {
          "output_type": "stream",
          "name": "stderr",
          "text": [
            "/content/drive/My Drive/ssfolder/unetTracker/trackingProject.py:127: FutureWarning: You are using `torch.load` with `weights_only=False` (the current default value), which uses the default pickle module implicitly. It is possible to construct malicious pickle data which will execute arbitrary code during unpickling (See https://github.com/pytorch/pytorch/blob/main/SECURITY.md#untrusted-models for more details). In a future release, the default value for `weights_only` will be flipped to `True`. This limits the functions that could be executed during unpickling. Arbitrary objects will no longer be allowed to be loaded via this mode unless they are explicitly allowlisted by the user via `torch.serialization.add_safe_globals`. We recommend you start setting `weights_only=True` for any use case where you don't have full control of the loaded file. Please open an issue on GitHub for any issues related to this experimental feature.\n",
            "  model.load_state_dict(torch.load(self.model_fn))\n",
            "<ipython-input-7-4e89b91174af>:10: FutureWarning: `torch.cuda.amp.GradScaler(args...)` is deprecated. Please use `torch.amp.GradScaler('cuda', args...)` instead.\n",
            "  scaler = torch.cuda.amp.GradScaler()\n"
          ]
        }
      ]
    },
    {
      "cell_type": "markdown",
      "source": [
        "#Data augmentation and normalization"
      ],
      "metadata": {
        "id": "iePYKGJEgcZA"
      }
    },
    {
      "cell_type": "code",
      "source": [
        "fileName = os.path.join(project.augmentation_dir,\"trainTransform\")\n",
        "print(\"Loading trainTransform from\", fileName)\n",
        "trainTransform=pickle.load(open(fileName,\"rb\" ))\n",
        "\n",
        "fileName = os.path.join(project.augmentation_dir,\"valTransform\")\n",
        "print(\"Loading valTransform from\", fileName)\n",
        "valTransform=pickle.load(open(fileName, \"rb\" ))"
      ],
      "metadata": {
        "colab": {
          "base_uri": "https://localhost:8080/"
        },
        "id": "PAGn4E2j12xa",
        "outputId": "a5fefb4c-d39a-4e5a-8ace-85876a8d4fe0"
      },
      "execution_count": 8,
      "outputs": [
        {
          "output_type": "stream",
          "name": "stdout",
          "text": [
            "Loading trainTransform from /content/drive/My Drive/ssfolder/trackingProjects/simonebiles_tracker/augmentation/trainTransform\n",
            "Loading valTransform from /content/drive/My Drive/ssfolder/trackingProjects/simonebiles_tracker/augmentation/valTransform\n"
          ]
        }
      ]
    },
    {
      "cell_type": "markdown",
      "source": [
        "#Datasets and DataLoaders"
      ],
      "metadata": {
        "id": "u3KjJt-1gfaL"
      }
    },
    {
      "cell_type": "code",
      "source": [
        "trainDataset = UNetDataset(TRAIN_IMAGE_DIR, TRAIN_MASK_DIR,TRAIN_COORDINATE_DIR, transform=trainTransform)\n",
        "valDataset = UNetDataset(VAL_IMAGE_DIR, VAL_MASK_DIR,VAL_COORDINATE_DIR, transform=valTransform)\n",
        "trainLoader = DataLoader(trainDataset,shuffle=True,batch_size=BATCH_SIZE, num_workers=NUM_WORKERS,pin_memory=PIN_MEMORY)\n",
        "valLoader = DataLoader(valDataset,shuffle=False,batch_size=BATCH_SIZE, num_workers=NUM_WORKERS,pin_memory = PIN_MEMORY)"
      ],
      "metadata": {
        "id": "q_cro18P2Br7"
      },
      "execution_count": 9,
      "outputs": []
    },
    {
      "cell_type": "code",
      "source": [
        "imgs, masks, _ = next(iter(trainLoader))\n",
        "imgs.shape, masks.shape"
      ],
      "metadata": {
        "colab": {
          "base_uri": "https://localhost:8080/"
        },
        "id": "ygIag5w92FmX",
        "outputId": "4109a9c3-4f56-46fd-a23c-18504f6ae495"
      },
      "execution_count": 10,
      "outputs": [
        {
          "output_type": "execute_result",
          "data": {
            "text/plain": [
              "(torch.Size([4, 3, 270, 480]), torch.Size([4, 10, 270, 480]))"
            ]
          },
          "metadata": {},
          "execution_count": 10
        }
      ]
    },
    {
      "cell_type": "markdown",
      "source": [
        "#Save and load checkpoint"
      ],
      "metadata": {
        "id": "kXoxyBr7gkU8"
      }
    },
    {
      "cell_type": "code",
      "source": [
        "def save_checkpoint(state, filename = \"my_checkpoint.pth.tar\"):\n",
        "    #print(\"Saving checkpoint\")\n",
        "    torch.save(state,filename)"
      ],
      "metadata": {
        "id": "FFH7gur92MQV"
      },
      "execution_count": 11,
      "outputs": []
    },
    {
      "cell_type": "markdown",
      "source": [
        "#Train the Model\n",
        "\n",
        "\n",
        "## Purpose\n",
        "- Train the model to predict masks for images in the dataset.\n",
        "- Evaluate model performance on the validation set every few epochs.\n",
        "\n",
        "## Task\n",
        "- **Input**: Each image in the dataset with its corresponding labeled masks.\n",
        "- **Output**: Predicted masks matching the labeled masks created during annotation.\n",
        "  - One mask per body part per image.\n",
        "  - Masks are the same size as the images.\n",
        "  - Mask structure:\n",
        "    - Most pixels set to `0`.\n",
        "    - A circle centered on the body part is set to `1`.\n",
        "\n",
        "## Model Objective\n",
        "- Learn to output values for each mask that closely resemble the labeled masks.\n",
        "- Use a **loss function** to measure the similarity between the labeled masks and model outputs.\n",
        "\n",
        "## Training Process\n",
        "1. Start training the model.\n",
        "2. Evaluate the performance periodically on the validation set.\n",
        "3. Observe model progress:\n",
        "   - Loss value should decrease over time.\n",
        "   - Typically, it takes **40-60 epochs** for the model to start identifying the labeled positive pixels as positive in the output masks.\n"
      ],
      "metadata": {
        "id": "S2ixfLNb2ZGu"
      }
    },
    {
      "cell_type": "code",
      "source": [
        "def train_fn(loader,model,optimizer,loss_fn,scaler,epoch,total_epochs):\n",
        "    \"\"\"\n",
        "    One epoch of training\n",
        "    \"\"\"\n",
        "    loop = tqdm(loader)\n",
        "    for batch_idx, (data,targets,_) in enumerate(loop):\n",
        "        data = data.to(device=DEVICE)\n",
        "        targets = targets.to(device=DEVICE)\n",
        "\n",
        "        # forward\n",
        "        with torch.cuda.amp.autocast():\n",
        "            predictions = model(data)\n",
        "            loss = loss_fn(predictions,targets)\n",
        "\n",
        "\n",
        "        # backward\n",
        "        optimizer.zero_grad()\n",
        "        scaler.scale(loss).backward()\n",
        "        scaler.step(optimizer)\n",
        "        scaler.update()\n",
        "\n",
        "        # update tqdm loop\n",
        "        loop.set_postfix_str(\"loss: {:.7f}, epoch: {:d}/{:d}\".format(loss.item(),epoch,total_epochs))"
      ],
      "metadata": {
        "id": "DNaK6J3E2Vph"
      },
      "execution_count": 12,
      "outputs": []
    },
    {
      "cell_type": "code",
      "source": [
        "startTime = datetime.now()\n",
        "print(\"Starting time:\",startTime)\n",
        "for epoch in range(NUM_EPOCHS):\n",
        "\n",
        "    train_fn(trainLoader,model,optimizer,loss_fn,scaler,epoch,NUM_EPOCHS)\n",
        "\n",
        "    if epoch % 5 == 0 :\n",
        "        # save model\n",
        "        checkpoint = {\n",
        "            \"state_dict\": model.state_dict(),\n",
        "            \"optimizer\": optimizer.state_dict()}\n",
        "        save_checkpoint(checkpoint,filename=os.path.join(project.models_dir,\"my_checkpoint.pth.tar\"))\n",
        "\n",
        "        # check accuracy\n",
        "        print(\"Performance on validation set\")\n",
        "        check_accuracy(model,valLoader,DEVICE)\n",
        "\n",
        "endTime=datetime.now()\n",
        "print(\"End time:\",endTime)\n",
        "print(\"{} epochs, duration:\".format(NUM_EPOCHS), endTime-startTime)"
      ],
      "metadata": {
        "colab": {
          "base_uri": "https://localhost:8080/"
        },
        "id": "Upc1C5ln2dEr",
        "outputId": "fbdb5364-2445-47de-d780-b1bd01654d09"
      },
      "execution_count": 13,
      "outputs": [
        {
          "output_type": "stream",
          "name": "stdout",
          "text": [
            "Starting time: 2025-01-06 09:57:38.726883\n"
          ]
        },
        {
          "output_type": "stream",
          "name": "stderr",
          "text": [
            "\r  0%|          | 0/35 [00:00<?, ?it/s]<ipython-input-12-4c8d78ac898b>:11: FutureWarning: `torch.cuda.amp.autocast(args...)` is deprecated. Please use `torch.amp.autocast('cuda', args...)` instead.\n",
            "  with torch.cuda.amp.autocast():\n",
            "100%|██████████| 35/35 [00:28<00:00,  1.23it/s, loss: 0.0004380, epoch: 0/100]\n"
          ]
        },
        {
          "output_type": "stream",
          "name": "stdout",
          "text": [
            "Performance on validation set\n",
            "Number of positive pixels predicted: 6146.0\n",
            "Number of positive pixels in masks: 8190.0\n",
            "Percentage of positive pixels predicted: 0.025\n",
            "Percentage of positive pixels in masks: 0.033\n",
            "Accuracy: 99.962\n",
            "Dice score: 0.353\n",
            "Mask pixels detected (True positives): 30.989%\n",
            "False positives: 58.705%\n",
            "Mean distance: 5.599689683234941\n"
          ]
        },
        {
          "output_type": "stream",
          "name": "stderr",
          "text": [
            "100%|██████████| 35/35 [00:11<00:00,  3.18it/s, loss: 0.0003097, epoch: 1/100]\n",
            "100%|██████████| 35/35 [00:08<00:00,  4.34it/s, loss: 0.0002716, epoch: 2/100]\n",
            "100%|██████████| 35/35 [00:09<00:00,  3.87it/s, loss: 0.0002568, epoch: 3/100]\n",
            "100%|██████████| 35/35 [00:08<00:00,  4.32it/s, loss: 0.0004186, epoch: 4/100]\n",
            "100%|██████████| 35/35 [00:09<00:00,  3.77it/s, loss: 0.0001904, epoch: 5/100]\n"
          ]
        },
        {
          "output_type": "stream",
          "name": "stdout",
          "text": [
            "Performance on validation set\n",
            "Number of positive pixels predicted: 5386.0\n",
            "Number of positive pixels in masks: 8190.0\n",
            "Percentage of positive pixels predicted: 0.022\n",
            "Percentage of positive pixels in masks: 0.033\n",
            "Accuracy: 99.965\n",
            "Dice score: 0.361\n",
            "Mask pixels detected (True positives): 29.829%\n",
            "False positives: 54.642%\n",
            "Mean distance: 7.5692338672005475\n"
          ]
        },
        {
          "output_type": "stream",
          "name": "stderr",
          "text": [
            "100%|██████████| 35/35 [00:08<00:00,  4.27it/s, loss: 0.0002911, epoch: 6/100]\n",
            "100%|██████████| 35/35 [00:11<00:00,  3.11it/s, loss: 0.0002630, epoch: 7/100]\n",
            "100%|██████████| 35/35 [00:08<00:00,  4.19it/s, loss: 0.0003327, epoch: 8/100]\n",
            "100%|██████████| 35/35 [00:09<00:00,  3.83it/s, loss: 0.0004512, epoch: 9/100]\n",
            "100%|██████████| 35/35 [00:08<00:00,  4.07it/s, loss: 0.0002566, epoch: 10/100]\n"
          ]
        },
        {
          "output_type": "stream",
          "name": "stdout",
          "text": [
            "Performance on validation set\n",
            "Number of positive pixels predicted: 5433.0\n",
            "Number of positive pixels in masks: 8190.0\n",
            "Percentage of positive pixels predicted: 0.022\n",
            "Percentage of positive pixels in masks: 0.033\n",
            "Accuracy: 99.963\n",
            "Dice score: 0.330\n",
            "Mask pixels detected (True positives): 27.326%\n",
            "False positives: 58.807%\n",
            "Mean distance: 8.4663289973567\n"
          ]
        },
        {
          "output_type": "stream",
          "name": "stderr",
          "text": [
            "100%|██████████| 35/35 [00:08<00:00,  4.15it/s, loss: 0.0003908, epoch: 11/100]\n",
            "100%|██████████| 35/35 [00:11<00:00,  3.13it/s, loss: 0.0004149, epoch: 12/100]\n",
            "100%|██████████| 35/35 [00:08<00:00,  4.17it/s, loss: 0.0004943, epoch: 13/100]\n",
            "100%|██████████| 35/35 [00:09<00:00,  3.65it/s, loss: 0.0002802, epoch: 14/100]\n",
            "100%|██████████| 35/35 [00:08<00:00,  4.04it/s, loss: 0.0003523, epoch: 15/100]\n"
          ]
        },
        {
          "output_type": "stream",
          "name": "stdout",
          "text": [
            "Performance on validation set\n",
            "Number of positive pixels predicted: 6242.0\n",
            "Number of positive pixels in masks: 8190.0\n",
            "Percentage of positive pixels predicted: 0.025\n",
            "Percentage of positive pixels in masks: 0.033\n",
            "Accuracy: 99.963\n",
            "Dice score: 0.371\n",
            "Mask pixels detected (True positives): 32.747%\n",
            "False positives: 57.033%\n",
            "Mean distance: 5.974447490108591\n"
          ]
        },
        {
          "output_type": "stream",
          "name": "stderr",
          "text": [
            "100%|██████████| 35/35 [00:08<00:00,  4.06it/s, loss: 0.0002994, epoch: 16/100]\n",
            "100%|██████████| 35/35 [00:11<00:00,  3.12it/s, loss: 0.0003412, epoch: 17/100]\n",
            "100%|██████████| 35/35 [00:08<00:00,  4.09it/s, loss: 0.0002561, epoch: 18/100]\n",
            "100%|██████████| 35/35 [00:09<00:00,  3.68it/s, loss: 0.0002297, epoch: 19/100]\n",
            "100%|██████████| 35/35 [00:08<00:00,  4.11it/s, loss: 0.0004090, epoch: 20/100]\n"
          ]
        },
        {
          "output_type": "stream",
          "name": "stdout",
          "text": [
            "Performance on validation set\n",
            "Number of positive pixels predicted: 5706.0\n",
            "Number of positive pixels in masks: 8190.0\n",
            "Percentage of positive pixels predicted: 0.023\n",
            "Percentage of positive pixels in masks: 0.033\n",
            "Accuracy: 99.964\n",
            "Dice score: 0.355\n",
            "Mask pixels detected (True positives): 30.049%\n",
            "False positives: 56.870%\n",
            "Mean distance: 6.89550995743612\n"
          ]
        },
        {
          "output_type": "stream",
          "name": "stderr",
          "text": [
            "100%|██████████| 35/35 [00:08<00:00,  4.17it/s, loss: 0.0002963, epoch: 21/100]\n",
            "100%|██████████| 35/35 [00:10<00:00,  3.20it/s, loss: 0.0003126, epoch: 22/100]\n",
            "100%|██████████| 35/35 [00:08<00:00,  4.13it/s, loss: 0.0002650, epoch: 23/100]\n",
            "100%|██████████| 35/35 [00:09<00:00,  3.64it/s, loss: 0.0003707, epoch: 24/100]\n",
            "100%|██████████| 35/35 [00:08<00:00,  3.94it/s, loss: 0.0002472, epoch: 25/100]\n"
          ]
        },
        {
          "output_type": "stream",
          "name": "stdout",
          "text": [
            "Performance on validation set\n",
            "Number of positive pixels predicted: 5534.0\n",
            "Number of positive pixels in masks: 8190.0\n",
            "Percentage of positive pixels predicted: 0.022\n",
            "Percentage of positive pixels in masks: 0.033\n",
            "Accuracy: 99.963\n",
            "Dice score: 0.330\n",
            "Mask pixels detected (True positives): 27.631%\n",
            "False positives: 59.107%\n",
            "Mean distance: 9.496590802654492\n"
          ]
        },
        {
          "output_type": "stream",
          "name": "stderr",
          "text": [
            "100%|██████████| 35/35 [00:08<00:00,  3.95it/s, loss: 0.0003045, epoch: 26/100]\n",
            "100%|██████████| 35/35 [00:10<00:00,  3.22it/s, loss: 0.0002756, epoch: 27/100]\n",
            "100%|██████████| 35/35 [00:08<00:00,  4.08it/s, loss: 0.0002682, epoch: 28/100]\n",
            "100%|██████████| 35/35 [00:09<00:00,  3.70it/s, loss: 0.0002244, epoch: 29/100]\n",
            "100%|██████████| 35/35 [00:08<00:00,  4.05it/s, loss: 0.0003689, epoch: 30/100]\n"
          ]
        },
        {
          "output_type": "stream",
          "name": "stdout",
          "text": [
            "Performance on validation set\n",
            "Number of positive pixels predicted: 5424.0\n",
            "Number of positive pixels in masks: 8190.0\n",
            "Percentage of positive pixels predicted: 0.022\n",
            "Percentage of positive pixels in masks: 0.033\n",
            "Accuracy: 99.963\n",
            "Dice score: 0.336\n",
            "Mask pixels detected (True positives): 27.814%\n",
            "False positives: 58.001%\n",
            "Mean distance: 6.263163260734165\n"
          ]
        },
        {
          "output_type": "stream",
          "name": "stderr",
          "text": [
            "100%|██████████| 35/35 [00:08<00:00,  4.05it/s, loss: 0.0002166, epoch: 31/100]\n",
            "100%|██████████| 35/35 [00:10<00:00,  3.20it/s, loss: 0.0003076, epoch: 32/100]\n",
            "100%|██████████| 35/35 [00:08<00:00,  4.13it/s, loss: 0.0004087, epoch: 33/100]\n",
            "100%|██████████| 35/35 [00:09<00:00,  3.65it/s, loss: 0.0002618, epoch: 34/100]\n",
            "100%|██████████| 35/35 [00:08<00:00,  4.04it/s, loss: 0.0004692, epoch: 35/100]\n"
          ]
        },
        {
          "output_type": "stream",
          "name": "stdout",
          "text": [
            "Performance on validation set\n",
            "Number of positive pixels predicted: 5856.0\n",
            "Number of positive pixels in masks: 8190.0\n",
            "Percentage of positive pixels predicted: 0.024\n",
            "Percentage of positive pixels in masks: 0.033\n",
            "Accuracy: 99.963\n",
            "Dice score: 0.350\n",
            "Mask pixels detected (True positives): 30.024%\n",
            "False positives: 58.009%\n",
            "Mean distance: 6.965953342787036\n"
          ]
        },
        {
          "output_type": "stream",
          "name": "stderr",
          "text": [
            "100%|██████████| 35/35 [00:08<00:00,  4.00it/s, loss: 0.0003364, epoch: 36/100]\n",
            "100%|██████████| 35/35 [00:10<00:00,  3.18it/s, loss: 0.0002366, epoch: 37/100]\n",
            "100%|██████████| 35/35 [00:08<00:00,  4.07it/s, loss: 0.0002877, epoch: 38/100]\n",
            "100%|██████████| 35/35 [00:09<00:00,  3.69it/s, loss: 0.0002270, epoch: 39/100]\n",
            "100%|██████████| 35/35 [00:08<00:00,  3.98it/s, loss: 0.0002603, epoch: 40/100]\n"
          ]
        },
        {
          "output_type": "stream",
          "name": "stdout",
          "text": [
            "Performance on validation set\n",
            "Number of positive pixels predicted: 6103.0\n",
            "Number of positive pixels in masks: 8190.0\n",
            "Percentage of positive pixels predicted: 0.025\n",
            "Percentage of positive pixels in masks: 0.033\n",
            "Accuracy: 99.963\n",
            "Dice score: 0.358\n",
            "Mask pixels detected (True positives): 31.368%\n",
            "False positives: 57.906%\n",
            "Mean distance: 6.532252348448873\n"
          ]
        },
        {
          "output_type": "stream",
          "name": "stderr",
          "text": [
            "100%|██████████| 35/35 [00:08<00:00,  4.06it/s, loss: 0.0002760, epoch: 41/100]\n",
            "100%|██████████| 35/35 [00:11<00:00,  3.17it/s, loss: 0.0001842, epoch: 42/100]\n",
            "100%|██████████| 35/35 [00:08<00:00,  4.09it/s, loss: 0.0002344, epoch: 43/100]\n",
            "100%|██████████| 35/35 [00:09<00:00,  3.64it/s, loss: 0.0002388, epoch: 44/100]\n",
            "100%|██████████| 35/35 [00:08<00:00,  4.00it/s, loss: 0.0002467, epoch: 45/100]\n"
          ]
        },
        {
          "output_type": "stream",
          "name": "stdout",
          "text": [
            "Performance on validation set\n",
            "Number of positive pixels predicted: 5405.0\n",
            "Number of positive pixels in masks: 8190.0\n",
            "Percentage of positive pixels predicted: 0.022\n",
            "Percentage of positive pixels in masks: 0.033\n",
            "Accuracy: 99.964\n",
            "Dice score: 0.350\n",
            "Mask pixels detected (True positives): 28.938%\n",
            "False positives: 56.152%\n",
            "Mean distance: 6.433323249012408\n"
          ]
        },
        {
          "output_type": "stream",
          "name": "stderr",
          "text": [
            "100%|██████████| 35/35 [00:08<00:00,  4.08it/s, loss: 0.0003692, epoch: 46/100]\n",
            "100%|██████████| 35/35 [00:11<00:00,  3.14it/s, loss: 0.0002492, epoch: 47/100]\n",
            "100%|██████████| 35/35 [00:08<00:00,  4.14it/s, loss: 0.0002808, epoch: 48/100]\n",
            "100%|██████████| 35/35 [00:09<00:00,  3.66it/s, loss: 0.0003405, epoch: 49/100]\n",
            "100%|██████████| 35/35 [00:08<00:00,  4.05it/s, loss: 0.0001811, epoch: 50/100]\n"
          ]
        },
        {
          "output_type": "stream",
          "name": "stdout",
          "text": [
            "Performance on validation set\n",
            "Number of positive pixels predicted: 6089.0\n",
            "Number of positive pixels in masks: 8190.0\n",
            "Percentage of positive pixels predicted: 0.025\n",
            "Percentage of positive pixels in masks: 0.033\n",
            "Accuracy: 99.963\n",
            "Dice score: 0.356\n",
            "Mask pixels detected (True positives): 30.891%\n",
            "False positives: 58.450%\n",
            "Mean distance: 5.7963480408887795\n"
          ]
        },
        {
          "output_type": "stream",
          "name": "stderr",
          "text": [
            "100%|██████████| 35/35 [00:08<00:00,  4.00it/s, loss: 0.0004047, epoch: 51/100]\n",
            "100%|██████████| 35/35 [00:10<00:00,  3.23it/s, loss: 0.0002493, epoch: 52/100]\n",
            "100%|██████████| 35/35 [00:08<00:00,  4.11it/s, loss: 0.0002223, epoch: 53/100]\n",
            "100%|██████████| 35/35 [00:09<00:00,  3.70it/s, loss: 0.0002333, epoch: 54/100]\n",
            "100%|██████████| 35/35 [00:08<00:00,  4.06it/s, loss: 0.0004173, epoch: 55/100]\n"
          ]
        },
        {
          "output_type": "stream",
          "name": "stdout",
          "text": [
            "Performance on validation set\n",
            "Number of positive pixels predicted: 6613.0\n",
            "Number of positive pixels in masks: 8190.0\n",
            "Percentage of positive pixels predicted: 0.027\n",
            "Percentage of positive pixels in masks: 0.033\n",
            "Accuracy: 99.962\n",
            "Dice score: 0.369\n",
            "Mask pixels detected (True positives): 33.419%\n",
            "False positives: 58.612%\n",
            "Mean distance: 6.469767458382951\n"
          ]
        },
        {
          "output_type": "stream",
          "name": "stderr",
          "text": [
            "100%|██████████| 35/35 [00:09<00:00,  3.81it/s, loss: 0.0002588, epoch: 56/100]\n",
            "100%|██████████| 35/35 [00:10<00:00,  3.44it/s, loss: 0.0002618, epoch: 57/100]\n",
            "100%|██████████| 35/35 [00:08<00:00,  4.00it/s, loss: 0.0002940, epoch: 58/100]\n",
            "100%|██████████| 35/35 [00:09<00:00,  3.74it/s, loss: 0.0004342, epoch: 59/100]\n",
            "100%|██████████| 35/35 [00:09<00:00,  3.87it/s, loss: 0.0001960, epoch: 60/100]\n"
          ]
        },
        {
          "output_type": "stream",
          "name": "stdout",
          "text": [
            "Performance on validation set\n",
            "Number of positive pixels predicted: 5978.0\n",
            "Number of positive pixels in masks: 8190.0\n",
            "Percentage of positive pixels predicted: 0.024\n",
            "Percentage of positive pixels in masks: 0.033\n",
            "Accuracy: 99.962\n",
            "Dice score: 0.342\n",
            "Mask pixels detected (True positives): 29.487%\n",
            "False positives: 59.602%\n",
            "Mean distance: 6.376887029093771\n"
          ]
        },
        {
          "output_type": "stream",
          "name": "stderr",
          "text": [
            "100%|██████████| 35/35 [00:08<00:00,  4.04it/s, loss: 0.0003584, epoch: 61/100]\n",
            "100%|██████████| 35/35 [00:11<00:00,  3.17it/s, loss: 0.0002633, epoch: 62/100]\n",
            "100%|██████████| 35/35 [00:08<00:00,  3.90it/s, loss: 0.0003210, epoch: 63/100]\n",
            "100%|██████████| 35/35 [00:08<00:00,  4.00it/s, loss: 0.0002482, epoch: 64/100]\n",
            "100%|██████████| 35/35 [00:09<00:00,  3.68it/s, loss: 0.0001813, epoch: 65/100]\n"
          ]
        },
        {
          "output_type": "stream",
          "name": "stdout",
          "text": [
            "Performance on validation set\n",
            "Number of positive pixels predicted: 6218.0\n",
            "Number of positive pixels in masks: 8190.0\n",
            "Percentage of positive pixels predicted: 0.025\n",
            "Percentage of positive pixels in masks: 0.033\n",
            "Accuracy: 99.961\n",
            "Dice score: 0.340\n",
            "Mask pixels detected (True positives): 29.902%\n",
            "False positives: 60.614%\n",
            "Mean distance: 7.083262996410667\n"
          ]
        },
        {
          "output_type": "stream",
          "name": "stderr",
          "text": [
            "100%|██████████| 35/35 [00:08<00:00,  4.05it/s, loss: 0.0002810, epoch: 66/100]\n",
            "100%|██████████| 35/35 [00:10<00:00,  3.21it/s, loss: 0.0003683, epoch: 67/100]\n",
            "100%|██████████| 35/35 [00:08<00:00,  4.03it/s, loss: 0.0003242, epoch: 68/100]\n",
            "100%|██████████| 35/35 [00:09<00:00,  3.76it/s, loss: 0.0003082, epoch: 69/100]\n",
            "100%|██████████| 35/35 [00:08<00:00,  4.02it/s, loss: 0.0004782, epoch: 70/100]\n"
          ]
        },
        {
          "output_type": "stream",
          "name": "stdout",
          "text": [
            "Performance on validation set\n",
            "Number of positive pixels predicted: 5737.0\n",
            "Number of positive pixels in masks: 8190.0\n",
            "Percentage of positive pixels predicted: 0.023\n",
            "Percentage of positive pixels in masks: 0.033\n",
            "Accuracy: 99.963\n",
            "Dice score: 0.347\n",
            "Mask pixels detected (True positives): 29.585%\n",
            "False positives: 57.765%\n",
            "Mean distance: 6.103440955682331\n"
          ]
        },
        {
          "output_type": "stream",
          "name": "stderr",
          "text": [
            "100%|██████████| 35/35 [00:08<00:00,  4.00it/s, loss: 0.0003005, epoch: 71/100]\n",
            "100%|██████████| 35/35 [00:10<00:00,  3.19it/s, loss: 0.0001718, epoch: 72/100]\n",
            "100%|██████████| 35/35 [00:08<00:00,  4.05it/s, loss: 0.0002957, epoch: 73/100]\n",
            "100%|██████████| 35/35 [00:09<00:00,  3.68it/s, loss: 0.0002980, epoch: 74/100]\n",
            "100%|██████████| 35/35 [00:08<00:00,  3.92it/s, loss: 0.0002029, epoch: 75/100]\n"
          ]
        },
        {
          "output_type": "stream",
          "name": "stdout",
          "text": [
            "Performance on validation set\n",
            "Number of positive pixels predicted: 6049.0\n",
            "Number of positive pixels in masks: 8190.0\n",
            "Percentage of positive pixels predicted: 0.025\n",
            "Percentage of positive pixels in masks: 0.033\n",
            "Accuracy: 99.963\n",
            "Dice score: 0.353\n",
            "Mask pixels detected (True positives): 30.635%\n",
            "False positives: 58.522%\n",
            "Mean distance: 6.1590864260423555\n"
          ]
        },
        {
          "output_type": "stream",
          "name": "stderr",
          "text": [
            "100%|██████████| 35/35 [00:09<00:00,  3.84it/s, loss: 0.0002779, epoch: 76/100]\n",
            "100%|██████████| 35/35 [00:10<00:00,  3.35it/s, loss: 0.0002218, epoch: 77/100]\n",
            "100%|██████████| 35/35 [00:08<00:00,  4.02it/s, loss: 0.0002455, epoch: 78/100]\n",
            "100%|██████████| 35/35 [00:09<00:00,  3.77it/s, loss: 0.0002747, epoch: 79/100]\n",
            "100%|██████████| 35/35 [00:08<00:00,  3.93it/s, loss: 0.0003412, epoch: 80/100]\n"
          ]
        },
        {
          "output_type": "stream",
          "name": "stdout",
          "text": [
            "Performance on validation set\n",
            "Number of positive pixels predicted: 6236.0\n",
            "Number of positive pixels in masks: 8190.0\n",
            "Percentage of positive pixels predicted: 0.025\n",
            "Percentage of positive pixels in masks: 0.033\n",
            "Accuracy: 99.962\n",
            "Dice score: 0.354\n",
            "Mask pixels detected (True positives): 31.245%\n",
            "False positives: 58.964%\n",
            "Mean distance: 8.110318070728853\n"
          ]
        },
        {
          "output_type": "stream",
          "name": "stderr",
          "text": [
            "100%|██████████| 35/35 [00:09<00:00,  3.79it/s, loss: 0.0002366, epoch: 81/100]\n",
            "100%|██████████| 35/35 [00:10<00:00,  3.43it/s, loss: 0.0001922, epoch: 82/100]\n",
            "100%|██████████| 35/35 [00:08<00:00,  4.02it/s, loss: 0.0005183, epoch: 83/100]\n",
            "100%|██████████| 35/35 [00:09<00:00,  3.68it/s, loss: 0.0002628, epoch: 84/100]\n",
            "100%|██████████| 35/35 [00:08<00:00,  3.96it/s, loss: 0.0004557, epoch: 85/100]\n"
          ]
        },
        {
          "output_type": "stream",
          "name": "stdout",
          "text": [
            "Performance on validation set\n",
            "Number of positive pixels predicted: 6155.0\n",
            "Number of positive pixels in masks: 8190.0\n",
            "Percentage of positive pixels predicted: 0.025\n",
            "Percentage of positive pixels in masks: 0.033\n",
            "Accuracy: 99.962\n",
            "Dice score: 0.344\n",
            "Mask pixels detected (True positives): 30.159%\n",
            "False positives: 59.870%\n",
            "Mean distance: 5.879158887707062\n"
          ]
        },
        {
          "output_type": "stream",
          "name": "stderr",
          "text": [
            "100%|██████████| 35/35 [00:08<00:00,  4.03it/s, loss: 0.0002612, epoch: 86/100]\n",
            "100%|██████████| 35/35 [00:11<00:00,  3.17it/s, loss: 0.0001842, epoch: 87/100]\n",
            "100%|██████████| 35/35 [00:08<00:00,  4.05it/s, loss: 0.0001706, epoch: 88/100]\n",
            "100%|██████████| 35/35 [00:09<00:00,  3.76it/s, loss: 0.0002716, epoch: 89/100]\n",
            "100%|██████████| 35/35 [00:09<00:00,  3.86it/s, loss: 0.0001966, epoch: 90/100]\n"
          ]
        },
        {
          "output_type": "stream",
          "name": "stdout",
          "text": [
            "Performance on validation set\n",
            "Number of positive pixels predicted: 5522.0\n",
            "Number of positive pixels in masks: 8190.0\n",
            "Percentage of positive pixels predicted: 0.022\n",
            "Percentage of positive pixels in masks: 0.033\n",
            "Accuracy: 99.963\n",
            "Dice score: 0.326\n",
            "Mask pixels detected (True positives): 27.363%\n",
            "False positives: 59.417%\n",
            "Mean distance: 7.413131688114566\n"
          ]
        },
        {
          "output_type": "stream",
          "name": "stderr",
          "text": [
            "100%|██████████| 35/35 [00:09<00:00,  3.83it/s, loss: 0.0002286, epoch: 91/100]\n",
            "100%|██████████| 35/35 [00:10<00:00,  3.33it/s, loss: 0.0001985, epoch: 92/100]\n",
            "100%|██████████| 35/35 [00:08<00:00,  4.06it/s, loss: 0.0005134, epoch: 93/100]\n",
            "100%|██████████| 35/35 [00:09<00:00,  3.78it/s, loss: 0.0001966, epoch: 94/100]\n",
            "100%|██████████| 35/35 [00:08<00:00,  3.94it/s, loss: 0.0004215, epoch: 95/100]\n"
          ]
        },
        {
          "output_type": "stream",
          "name": "stdout",
          "text": [
            "Performance on validation set\n",
            "Number of positive pixels predicted: 5605.0\n",
            "Number of positive pixels in masks: 8190.0\n",
            "Percentage of positive pixels predicted: 0.023\n",
            "Percentage of positive pixels in masks: 0.033\n",
            "Accuracy: 99.962\n",
            "Dice score: 0.327\n",
            "Mask pixels detected (True positives): 27.692%\n",
            "False positives: 59.536%\n",
            "Mean distance: 8.370535901466033\n"
          ]
        },
        {
          "output_type": "stream",
          "name": "stderr",
          "text": [
            "100%|██████████| 35/35 [00:09<00:00,  3.61it/s, loss: 0.0003235, epoch: 96/100]\n",
            "100%|██████████| 35/35 [00:09<00:00,  3.64it/s, loss: 0.0002675, epoch: 97/100]\n",
            "100%|██████████| 35/35 [00:08<00:00,  4.06it/s, loss: 0.0001955, epoch: 98/100]\n",
            "100%|██████████| 35/35 [00:09<00:00,  3.75it/s, loss: 0.0002153, epoch: 99/100]"
          ]
        },
        {
          "output_type": "stream",
          "name": "stdout",
          "text": [
            "End time: 2025-01-06 10:14:50.849933\n",
            "100 epochs, duration: 0:17:12.123050\n"
          ]
        },
        {
          "output_type": "stream",
          "name": "stderr",
          "text": [
            "\n"
          ]
        }
      ]
    },
    {
      "cell_type": "code",
      "source": [
        "project.save_model(model)"
      ],
      "metadata": {
        "colab": {
          "base_uri": "https://localhost:8080/"
        },
        "id": "xRUkTHpJ2fvZ",
        "outputId": "a2f8b8c4-f1e3-4cd3-bfbf-62797dc1f50e"
      },
      "execution_count": 14,
      "outputs": [
        {
          "output_type": "stream",
          "name": "stdout",
          "text": [
            "saving model state dict to /content/drive/My Drive/ssfolder/trackingProjects/simonebiles_tracker/models/UNet.pt\n",
            "2025-01-06 10:14:54.446354\n"
          ]
        }
      ]
    },
    {
      "cell_type": "code",
      "source": [],
      "metadata": {
        "id": "tux1v74Q6jYO"
      },
      "execution_count": null,
      "outputs": []
    }
  ]
}